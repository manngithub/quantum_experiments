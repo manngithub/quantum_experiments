{
 "cells": [
  {
   "cell_type": "code",
   "execution_count": 1,
   "id": "5c44e508-9baf-4a06-9a3b-530b5cd45069",
   "metadata": {},
   "outputs": [],
   "source": [
    "# install qiskit\n",
    "# !pip install qiskit\n",
    "from qiskit import *"
   ]
  },
  {
   "cell_type": "code",
   "execution_count": 2,
   "id": "8af3b52b-c6c2-4ae0-8f39-31dda914d6ca",
   "metadata": {},
   "outputs": [
    {
     "data": {
      "text/plain": [
       "'\\n# Another option of creating same circuit above:\\nquantum_register = QuantumRegister(2) # 2: two qubits\\nclassical_register = ClassicalRegister(2) # 2: two bits\\ncircuit = QuantumCircuit(quantum_register, classical_register)\\n'"
      ]
     },
     "execution_count": 2,
     "metadata": {},
     "output_type": "execute_result"
    }
   ],
   "source": [
    "# Initialize circuit with two qubits\n",
    "circuit = QuantumCircuit (2,2) # (2: two qubits, 2: two classical bits)\n",
    "\n",
    "\"\"\"\n",
    "# Another option of creating same circuit above:\n",
    "quantum_register = QuantumRegister(2) # 2: two qubits\n",
    "classical_register = ClassicalRegister(2) # 2: two bits\n",
    "circuit = QuantumCircuit(quantum_register, classical_register)\n",
    "\"\"\""
   ]
  },
  {
   "cell_type": "code",
   "execution_count": 3,
   "id": "668ceaee-b148-466b-a085-e8dd993d1087",
   "metadata": {},
   "outputs": [
    {
     "data": {
      "text/html": [
       "<pre style=\"word-wrap: normal;white-space: pre;background: #fff0;line-height: 1.1;font-family: &quot;Courier New&quot;,Courier,monospace\">     \n",
       "q_0: \n",
       "     \n",
       "q_1: \n",
       "     \n",
       "c: 2/\n",
       "     </pre>"
      ],
      "text/plain": [
       "     \n",
       "q_0: \n",
       "     \n",
       "q_1: \n",
       "     \n",
       "c: 2/\n",
       "     "
      ]
     },
     "execution_count": 3,
     "metadata": {},
     "output_type": "execute_result"
    }
   ],
   "source": [
    "circuit.draw()"
   ]
  },
  {
   "cell_type": "code",
   "execution_count": 4,
   "id": "c5bb1214-3247-47f4-a0d1-004f40e44b33",
   "metadata": {},
   "outputs": [
    {
     "data": {
      "image/png": "[encoded data removed]",
      "text/plain": [
       "<Figure size 116.552x204.68 with 1 Axes>"
      ]
     },
     "execution_count": 4,
     "metadata": {},
     "output_type": "execute_result"
    }
   ],
   "source": [
    "%matplotlib inline\n",
    "circuit.draw(output='mpl') # mpl: matplotlib"
   ]
  },
  {
   "cell_type": "code",
   "execution_count": 5,
   "id": "fa85ae38-9826-4918-ade3-0e3c1da39fdd",
   "metadata": {},
   "outputs": [
    {
     "data": {
      "image/png": "[encoded data removed]",
      "text/plain": [
       "<Figure size 146.652x204.68 with 1 Axes>"
      ]
     },
     "execution_count": 5,
     "metadata": {},
     "output_type": "execute_result"
    }
   ],
   "source": [
    "# Apply Hadamard gate on first qubit\n",
    "circuit.h(0)\n",
    "circuit.draw(output='mpl')"
   ]
  },
  {
   "cell_type": "code",
   "execution_count": 7,
   "id": "c9d5409e-676e-4c1a-acfa-64a8708eb085",
   "metadata": {},
   "outputs": [
    {
     "data": {
      "image/png": "[encoded data removed]",
      "text/plain": [
       "<Figure size 327.252x204.68 with 1 Axes>"
      ]
     },
     "execution_count": 7,
     "metadata": {},
     "output_type": "execute_result"
    }
   ],
   "source": [
    "# Apply CNOT gate\n",
    "circuit.cx(0,1) # 0-> control qubit, 1-> target qubit\n",
    "# Observe\n",
    "circuit.measure([0,1],[0,1])\n",
    "circuit.draw(output='mpl')"
   ]
  },
  {
   "cell_type": "code",
   "execution_count": 8,
   "id": "8fdc4798-601c-4db3-bf88-385b2d6af9e6",
   "metadata": {},
   "outputs": [],
   "source": [
    "# run on a simulator\n",
    "# first specify simulator name\n",
    "simulator = Aer.get_backend('qasm_simulator')"
   ]
  },
  {
   "cell_type": "code",
   "execution_count": 10,
   "id": "0a8675c7-694d-40f7-8fb1-609dc4423665",
   "metadata": {},
   "outputs": [],
   "source": [
    "# now run it and get result\n",
    "result = execute(circuit, backend = simulator).result()"
   ]
  },
  {
   "cell_type": "code",
   "execution_count": 11,
   "id": "152aa9b4-3bab-4327-84f4-fb3d19d22c3d",
   "metadata": {},
   "outputs": [],
   "source": [
    "from qiskit.visualization import plot_histogram"
   ]
  },
  {
   "cell_type": "code",
   "execution_count": 12,
   "id": "50c6af04-23f9-4b13-af70-b1ca9692ca12",
   "metadata": {},
   "outputs": [
    {
     "data": {
      "image/png": "[encoded data removed]",
      "text/plain": [
       "<Figure size 504x360 with 1 Axes>"
      ]
     },
     "execution_count": 12,
     "metadata": {},
     "output_type": "execute_result"
    }
   ],
   "source": [
    "plot_histogram(result.get_counts(circuit))"
   ]
  },
  {
   "cell_type": "markdown",
   "id": "839dc7ce-8c41-4beb-912f-5199826f9ba3",
   "metadata": {},
   "source": [
    "### Let's run on actual quantum computer"
   ]
  },
  {
   "cell_type": "code",
   "execution_count": 13,
   "id": "63a2b841-2941-49bb-b174-750cb2c69455",
   "metadata": {},
   "outputs": [
    {
     "data": {
      "text/plain": [
       "<AccountProvider for IBMQ(hub='ibm-q', group='open', project='main')>"
      ]
     },
     "execution_count": 13,
     "metadata": {},
     "output_type": "execute_result"
    }
   ],
   "source": [
    "IBMQ.save_account(open('../apikey.txt','r').read())\n",
    "IBMQ.load_account()"
   ]
  },
  {
   "cell_type": "code",
   "execution_count": 14,
   "id": "4fa5c1ce-3c15-421e-8c0a-823139715e99",
   "metadata": {},
   "outputs": [],
   "source": [
    "provider = IBMQ.get_provider('ibm-q')"
   ]
  },
  {
   "cell_type": "code",
   "execution_count": 15,
   "id": "34cec62a-4459-4e0f-8e40-fa3c7aac33dc",
   "metadata": {},
   "outputs": [],
   "source": [
    "quantum_computer = provider.get_backend('ibmq_lima')"
   ]
  },
  {
   "cell_type": "code",
   "execution_count": 16,
   "id": "da617ad3-6a6b-4668-ae81-1b8c29000b35",
   "metadata": {},
   "outputs": [
    {
     "data": {
      "application/vnd.jupyter.widget-view+json": {
       "model_id": "",
       "version_major": 2,
       "version_minor": 0
      },
      "text/plain": [
       "Accordion(children=(VBox(layout=Layout(max_width='710px', min_width='710px')),), layout=Layout(max_height='500…"
      ]
     },
     "metadata": {},
     "output_type": "display_data"
    },
    {
     "data": {
      "application/javascript": [
       "\n",
       "        const isLab = window['Jupyter'] === undefined;\n",
       "        const notebook = document.querySelector( isLab ? 'div.jp-Notebook' : '#site');\n",
       "        const jobWidget = document.querySelector('div.job_widget');\n",
       "        notebook.prepend(jobWidget);\n",
       "        jobWidget.style.zIndex = '999';\n",
       "        jobWidget.style.position = isLab ? 'sticky' : 'fixed';\n",
       "        jobWidget.style.boxShadow = '5px 5px 5px -3px black';\n",
       "        jobWidget.style.opacity = '0.95';\n",
       "        if (isLab) {\n",
       "            jobWidget.style.top = '0';\n",
       "            jobWidget.style.left = '0';\n",
       "        }\n",
       "        "
      ],
      "text/plain": [
       "<IPython.core.display.Javascript object>"
      ]
     },
     "metadata": {},
     "output_type": "display_data"
    }
   ],
   "source": [
    "import qiskit.tools.jupyter\n",
    "%qiskit_job_watcher\n",
    "job = execute(circuit, backend = quantum_computer)"
   ]
  },
  {
   "cell_type": "code",
   "execution_count": 17,
   "id": "1b0eb210-9f64-4c93-b629-c6655a020a46",
   "metadata": {},
   "outputs": [
    {
     "name": "stdout",
     "output_type": "stream",
     "text": [
      "Job Status: job has successfully run\n"
     ]
    }
   ],
   "source": [
    "from qiskit.tools.monitor import job_monitor\n",
    "job_monitor(job)"
   ]
  },
  {
   "cell_type": "code",
   "execution_count": 18,
   "id": "242a2339-3e97-4494-af52-a447f47b98df",
   "metadata": {},
   "outputs": [
    {
     "data": {
      "image/png": "[encoded data removed]",
      "text/plain": [
       "<Figure size 504x360 with 1 Axes>"
      ]
     },
     "execution_count": 18,
     "metadata": {},
     "output_type": "execute_result"
    }
   ],
   "source": [
    "quantum_result = job.result()\n",
    "plot_histogram(quantum_result.get_counts(circuit))"
   ]
  },
  {
   "cell_type": "markdown",
   "id": "9f024de3-33fb-4378-9e99-6b0068b4494f",
   "metadata": {},
   "source": [
    "|01> and |10> strengths are due to noise"
   ]
  },
  {
   "cell_type": "code",
   "execution_count": 19,
   "id": "a1cb0c9a-8e28-4fd8-8183-8a4ed85ff091",
   "metadata": {},
   "outputs": [],
   "source": [
    "%qiskit_disable_job_watcher"
   ]
  },
  {
   "cell_type": "code",
   "execution_count": null,
   "id": "31b41d35-5539-446c-9c2a-51f784120591",
   "metadata": {},
   "outputs": [],
   "source": []
  }
 ],
 "metadata": {
  "kernelspec": {
   "display_name": "Python 3",
   "language": "python",
   "name": "python3"
  },
  "language_info": {
   "codemirror_mode": {
    "name": "ipython",
    "version": 3
   },
   "file_extension": ".py",
   "mimetype": "text/x-python",
   "name": "python",
   "nbconvert_exporter": "python",
   "pygments_lexer": "ipython3",
   "version": "3.8.8"
  }
 },
 "nbformat": 4,
 "nbformat_minor": 5
}
